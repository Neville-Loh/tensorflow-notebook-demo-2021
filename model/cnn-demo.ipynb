{
 "cells": [
  {
   "cell_type": "markdown",
   "metadata": {
    "id": "yWkrjmop2GwG"
   },
   "source": [
    "# Convolution Neural Network"
   ]
  },
  {
   "cell_type": "markdown",
   "metadata": {
    "id": "pTu9mETC2wtr"
   },
   "source": [
    "### Importing ilbraries"
   ]
  },
  {
   "cell_type": "code",
   "execution_count": 23,
   "metadata": {
    "executionInfo": {
     "elapsed": 1311,
     "status": "ok",
     "timestamp": 1617387485979,
     "user": {
      "displayName": "Neville Loh",
      "photoUrl": "",
      "userId": "08218541967821366575"
     },
     "user_tz": -780
    },
    "id": "O06X4q0L23gj"
   },
   "outputs": [],
   "source": [
    "import tensorflow as tf\n",
    "from tensorflow.keras.preprocessing.image import ImageDataGenerator"
   ]
  },
  {
   "cell_type": "code",
   "execution_count": 32,
   "metadata": {
    "colab": {
     "base_uri": "https://localhost:8080/",
     "height": 35
    },
    "executionInfo": {
     "elapsed": 1304,
     "status": "ok",
     "timestamp": 1617387485980,
     "user": {
      "displayName": "Neville Loh",
      "photoUrl": "",
      "userId": "08218541967821366575"
     },
     "user_tz": -780
    },
    "id": "UuTo9lDB3F7j",
    "outputId": "3a213f53-5c65-4ffd-c006-3f6e4dc977e7",
    "scrolled": true
   },
   "outputs": [
    {
     "name": "stdout",
     "output_type": "stream",
     "text": [
      "2.4.1\n",
      "[name: \"/device:CPU:0\"\n",
      "device_type: \"CPU\"\n",
      "memory_limit: 268435456\n",
      "locality {\n",
      "}\n",
      "incarnation: 16010482698954893739\n",
      ", name: \"/device:GPU:0\"\n",
      "device_type: \"GPU\"\n",
      "memory_limit: 5060693856\n",
      "locality {\n",
      "  bus_id: 1\n",
      "  links {\n",
      "  }\n",
      "}\n",
      "incarnation: 10262604472664990813\n",
      "physical_device_desc: \"device: 0, name: NVIDIA GeForce GTX 1060, pci bus id: 0000:01:00.0, compute capability: 6.1\"\n",
      "]\n"
     ]
    }
   ],
   "source": [
    "print(tf.__version__)\n",
    "from tensorflow.python.client import device_lib\n",
    "print(device_lib.list_local_devices())"
   ]
  },
  {
   "cell_type": "markdown",
   "metadata": {
    "id": "3w8DdkeK2Thm"
   },
   "source": [
    "## 1 - Data Preprocessing "
   ]
  },
  {
   "cell_type": "markdown",
   "metadata": {
    "id": "uo6FBC883NkN"
   },
   "source": [
    "### Preprocessing the Training Set"
   ]
  },
  {
   "cell_type": "code",
   "execution_count": 36,
   "metadata": {
    "colab": {
     "base_uri": "https://localhost:8080/",
     "height": 375
    },
    "executionInfo": {
     "elapsed": 1582,
     "status": "error",
     "timestamp": 1617387486260,
     "user": {
      "displayName": "Neville Loh",
      "photoUrl": "",
      "userId": "08218541967821366575"
     },
     "user_tz": -780
    },
    "id": "Im_4aksa3RDY",
    "outputId": "b18d03f2-dff9-4ac0-a7f9-0076f48bc247"
   },
   "outputs": [
    {
     "name": "stdout",
     "output_type": "stream",
     "text": [
      "Found 8000 images belonging to 2 classes.\n"
     ]
    }
   ],
   "source": [
    "## Transformation, avoid overfitting. will get very high accracy\n",
    "## This is going to apply some simple transformation/ rotation to the image / rotations/ zoom in and out flips/ \n",
    "## image augmentation\n",
    "## https://keras.io/api/preprocessing/\n",
    "\n",
    "## Create object \n",
    "\n",
    "# Open slides \n",
    "# rescale = feature scaling 1part out of 255\n",
    "# shear range = shear x +- 20%\n",
    "# zoom range = zoom +- 20%\n",
    "# horizontal_flip = flip the image randomly \n",
    "train_datagen = ImageDataGenerator(\n",
    "        rescale=1./255,\n",
    "        shear_range=0.2,\n",
    "        zoom_range=0.2,\n",
    "        horizontal_flip=True)\n",
    "\n",
    "## .flow_from_directory basically picks up your image set there\n",
    "## path to the training set folder\n",
    "## target_size, is the target size of the result image\n",
    "## 150 by 150 kinda too large\n",
    "## 64, 64 is quite good and fast\n",
    "\n",
    "\n",
    "## class mode is either binary/categorical\n",
    "## Can go to \n",
    "\n",
    "## For macOs people it's data\\training_set\n",
    "training_set = train_datagen.flow_from_directory(\n",
    "        'data\\\\training_set',\n",
    "        target_size=(64, 64),\n",
    "        batch_size=32,\n",
    "        class_mode='binary')"
   ]
  },
  {
   "cell_type": "markdown",
   "metadata": {
    "id": "gcY6kD4o3UEK"
   },
   "source": [
    "### Preprocessing the Test set"
   ]
  },
  {
   "cell_type": "code",
   "execution_count": 37,
   "metadata": {
    "colab": {
     "base_uri": "https://localhost:8080/",
     "height": 375
    },
    "executionInfo": {
     "elapsed": 756,
     "status": "error",
     "timestamp": 1617387499073,
     "user": {
      "displayName": "Neville Loh",
      "photoUrl": "",
      "userId": "08218541967821366575"
     },
     "user_tz": -780
    },
    "id": "eADUqYfRwl5b",
    "outputId": "843016a6-87ba-4544-f1ac-d88761b40a67"
   },
   "outputs": [
    {
     "name": "stdout",
     "output_type": "stream",
     "text": [
      "Found 2000 images belonging to 2 classes.\n"
     ]
    }
   ],
   "source": [
    "## Scale but not augmented\n",
    "test_datagen = ImageDataGenerator(rescale=1./255)\n",
    "test_set = test_datagen.flow_from_directory(\n",
    "        'data/test_set',\n",
    "        target_size=(64, 64),\n",
    "        batch_size=32,\n",
    "        class_mode='binary')\n"
   ]
  },
  {
   "cell_type": "markdown",
   "metadata": {
    "id": "ZdvDydtU2d7a"
   },
   "source": [
    "## 2 - CNN construction"
   ]
  },
  {
   "cell_type": "markdown",
   "metadata": {
    "id": "WA65n3a4BNV5"
   },
   "source": [
    "### Initialising CNN"
   ]
  },
  {
   "cell_type": "code",
   "execution_count": 38,
   "metadata": {
    "executionInfo": {
     "elapsed": 842,
     "status": "ok",
     "timestamp": 1617387504605,
     "user": {
      "displayName": "Neville Loh",
      "photoUrl": "",
      "userId": "08218541967821366575"
     },
     "user_tz": -780
    },
    "id": "q4KwTEn0A-kF"
   },
   "outputs": [],
   "source": [
    "model = tf.keras.models.Sequential()"
   ]
  },
  {
   "cell_type": "markdown",
   "metadata": {
    "id": "ERYgSPOLBS3E"
   },
   "source": [
    "### Convolution layer"
   ]
  },
  {
   "cell_type": "markdown",
   "metadata": {
    "id": "b5856mVQEfWB"
   },
   "source": [
    "**Conv3D and Conv2D**  \n",
    "Conv2D is used for images. Conv3D is usually used for videos where you have a frame for each time span.  \n",
    "\n",
    "**filters**.  \n",
    "Filters are the number of feature detectors.  \n",
    "\n",
    "**kernel_size**.  \n",
    "kernal is just another name for filter, size means how many row and col your filters going to have, 3 = 3 row by 3 row\n",
    "\n",
    "**input_shape**.  \n",
    "shape of data, height,weight, RGB=3, black white = 1"
   ]
  },
  {
   "cell_type": "code",
   "execution_count": 39,
   "metadata": {
    "executionInfo": {
     "elapsed": 837,
     "status": "ok",
     "timestamp": 1617387507372,
     "user": {
      "displayName": "Neville Loh",
      "photoUrl": "",
      "userId": "08218541967821366575"
     },
     "user_tz": -780
    },
    "id": "76foXQ-mBSC3"
   },
   "outputs": [],
   "source": [
    "## filters \n",
    "\n",
    "model.add(tf.keras.layers.Conv2D(filters=32, kernel_size=3, activation='relu', input_shape=[64, 64, 3]))"
   ]
  },
  {
   "cell_type": "markdown",
   "metadata": {
    "id": "rEy7EDK-GbhM"
   },
   "source": [
    "### Pooling"
   ]
  },
  {
   "cell_type": "markdown",
   "metadata": {
    "id": "x-gbFjDWG5xX"
   },
   "source": [
    "MaxPool2D and MaxPooling2D is the same, they just undergoes some update but kept the old name as alias\n",
    "\n",
    "The dimension of pooling depends on the dimention of your filter, Conv2D then use \n",
    "\n",
    "**Pool size** is 2.  \n",
    "That means 2x2 matrix in 2D.    \n",
    "**strides** = shifting 2 pixels at a time"
   ]
  },
  {
   "cell_type": "code",
   "execution_count": 40,
   "metadata": {
    "executionInfo": {
     "elapsed": 855,
     "status": "ok",
     "timestamp": 1617387510038,
     "user": {
      "displayName": "Neville Loh",
      "photoUrl": "",
      "userId": "08218541967821366575"
     },
     "user_tz": -780
    },
    "id": "iEPQer2EGiCi"
   },
   "outputs": [],
   "source": [
    "model.add(tf.keras.layers.MaxPool2D(pool_size=2, strides=2))"
   ]
  },
  {
   "cell_type": "markdown",
   "metadata": {
    "id": "w5E2njxpSiSy"
   },
   "source": [
    "### 2nd Convolution layer\n"
   ]
  },
  {
   "cell_type": "markdown",
   "metadata": {
    "id": "qtMvM5qZS4BC"
   },
   "source": [
    "If there's already 1 convolution layer before that you don't have to do input_shape, it takes the input shape of the 2nd layer.  \n",
    "\n"
   ]
  },
  {
   "cell_type": "code",
   "execution_count": 41,
   "metadata": {
    "executionInfo": {
     "elapsed": 786,
     "status": "ok",
     "timestamp": 1617387777404,
     "user": {
      "displayName": "Neville Loh",
      "photoUrl": "",
      "userId": "08218541967821366575"
     },
     "user_tz": -780
    },
    "id": "xiH4XGDXSo3x"
   },
   "outputs": [],
   "source": [
    "model.add(tf.keras.layers.Conv2D(filters=32, kernel_size=3, activation='relu'))\n",
    "model.add(tf.keras.layers.MaxPool2D(pool_size=2, strides=2))"
   ]
  },
  {
   "cell_type": "markdown",
   "metadata": {
    "id": "xdz4wJRAzXgH"
   },
   "source": [
    "### Flattening into 1D array"
   ]
  },
  {
   "cell_type": "code",
   "execution_count": 42,
   "metadata": {
    "executionInfo": {
     "elapsed": 836,
     "status": "ok",
     "timestamp": 1617387912978,
     "user": {
      "displayName": "Neville Loh",
      "photoUrl": "",
      "userId": "08218541967821366575"
     },
     "user_tz": -780
    },
    "id": "ZOdq8NAbzWov"
   },
   "outputs": [],
   "source": [
    "model.add(tf.keras.layers.Flatten())"
   ]
  },
  {
   "cell_type": "markdown",
   "metadata": {
    "id": "K4JG6mg51Uc4"
   },
   "source": [
    "### Connecting to ANN "
   ]
  },
  {
   "cell_type": "code",
   "execution_count": 43,
   "metadata": {
    "executionInfo": {
     "elapsed": 805,
     "status": "ok",
     "timestamp": 1617388353974,
     "user": {
      "displayName": "Neville Loh",
      "photoUrl": "",
      "userId": "08218541967821366575"
     },
     "user_tz": -780
    },
    "id": "r7Eu2q651o-s"
   },
   "outputs": [],
   "source": [
    "## ANN dense\n",
    "model.add(tf.keras.layers.Dense(units=128, activation='relu'))"
   ]
  },
  {
   "cell_type": "code",
   "execution_count": 44,
   "metadata": {
    "executionInfo": {
     "elapsed": 742,
     "status": "ok",
     "timestamp": 1617388331684,
     "user": {
      "displayName": "Neville Loh",
      "photoUrl": "",
      "userId": "08218541967821366575"
     },
     "user_tz": -780
    },
    "id": "h69egjcb2lO6"
   },
   "outputs": [],
   "source": [
    "## Ouput Layer\n",
    "model.add(tf.keras.layers.Dense(units=1, activation='sigmoid'))"
   ]
  },
  {
   "cell_type": "markdown",
   "metadata": {
    "id": "alr5EWvy3Ana"
   },
   "source": [
    "## Training CNN"
   ]
  },
  {
   "cell_type": "code",
   "execution_count": 45,
   "metadata": {
    "executionInfo": {
     "elapsed": 805,
     "status": "ok",
     "timestamp": 1617388489957,
     "user": {
      "displayName": "Neville Loh",
      "photoUrl": "",
      "userId": "08218541967821366575"
     },
     "user_tz": -780
    },
    "id": "uQLoZOxq3Edr"
   },
   "outputs": [],
   "source": [
    "## Compliing\n",
    "\n",
    "model.compile(optimizer = 'adam', loss = 'binary_crossentropy', metrics = ['accuracy'])"
   ]
  },
  {
   "cell_type": "markdown",
   "metadata": {},
   "source": [
    "Why are there no batch size? Cause we already partition it into batches during the data preprocessing phase"
   ]
  },
  {
   "cell_type": "code",
   "execution_count": 77,
   "metadata": {
    "id": "Mkz-4ity3eUU",
    "scrolled": true
   },
   "outputs": [
    {
     "name": "stdout",
     "output_type": "stream",
     "text": [
      "Epoch 1/25\n",
      "250/250 [==============================] - 19s 77ms/step - loss: 0.2377 - accuracy: 0.9019 - val_loss: 0.5086 - val_accuracy: 0.8085\n",
      "Epoch 2/25\n",
      "250/250 [==============================] - 19s 76ms/step - loss: 0.2339 - accuracy: 0.9007 - val_loss: 0.5140 - val_accuracy: 0.8155\n",
      "Epoch 3/25\n",
      "250/250 [==============================] - 19s 76ms/step - loss: 0.2284 - accuracy: 0.9051 - val_loss: 0.5495 - val_accuracy: 0.8030\n",
      "Epoch 4/25\n",
      "250/250 [==============================] - 19s 77ms/step - loss: 0.2124 - accuracy: 0.9076 - val_loss: 0.5274 - val_accuracy: 0.8110\n",
      "Epoch 5/25\n",
      "250/250 [==============================] - 19s 77ms/step - loss: 0.2005 - accuracy: 0.9184 - val_loss: 0.5494 - val_accuracy: 0.8170\n",
      "Epoch 6/25\n",
      "250/250 [==============================] - 19s 77ms/step - loss: 0.2028 - accuracy: 0.9161 - val_loss: 0.5346 - val_accuracy: 0.8170\n",
      "Epoch 7/25\n",
      "250/250 [==============================] - 19s 77ms/step - loss: 0.1976 - accuracy: 0.9186 - val_loss: 0.5950 - val_accuracy: 0.8060\n",
      "Epoch 8/25\n",
      "250/250 [==============================] - 19s 77ms/step - loss: 0.1811 - accuracy: 0.9252 - val_loss: 0.5796 - val_accuracy: 0.8085\n",
      "Epoch 9/25\n",
      "250/250 [==============================] - 19s 76ms/step - loss: 0.1769 - accuracy: 0.9291 - val_loss: 0.6105 - val_accuracy: 0.8085\n",
      "Epoch 10/25\n",
      "250/250 [==============================] - 20s 79ms/step - loss: 0.1696 - accuracy: 0.9344 - val_loss: 0.6201 - val_accuracy: 0.8045\n",
      "Epoch 11/25\n",
      "250/250 [==============================] - 20s 78ms/step - loss: 0.1579 - accuracy: 0.9414 - val_loss: 0.6494 - val_accuracy: 0.8025\n",
      "Epoch 12/25\n",
      "250/250 [==============================] - 20s 78ms/step - loss: 0.1551 - accuracy: 0.9411 - val_loss: 0.6100 - val_accuracy: 0.8040\n",
      "Epoch 13/25\n",
      "250/250 [==============================] - 19s 77ms/step - loss: 0.1456 - accuracy: 0.9424 - val_loss: 0.6891 - val_accuracy: 0.8020\n",
      "Epoch 14/25\n",
      "250/250 [==============================] - 19s 77ms/step - loss: 0.1418 - accuracy: 0.9465 - val_loss: 0.6182 - val_accuracy: 0.8130\n",
      "Epoch 15/25\n",
      "250/250 [==============================] - 20s 79ms/step - loss: 0.1330 - accuracy: 0.9500 - val_loss: 0.6790 - val_accuracy: 0.8110\n",
      "Epoch 16/25\n",
      "250/250 [==============================] - 19s 77ms/step - loss: 0.1366 - accuracy: 0.9457 - val_loss: 0.6741 - val_accuracy: 0.8090\n",
      "Epoch 17/25\n",
      "250/250 [==============================] - 19s 78ms/step - loss: 0.1285 - accuracy: 0.9494 - val_loss: 0.7482 - val_accuracy: 0.8000\n",
      "Epoch 18/25\n",
      "250/250 [==============================] - 19s 77ms/step - loss: 0.1254 - accuracy: 0.9534 - val_loss: 0.7185 - val_accuracy: 0.8105: 16s\n",
      "Epoch 19/25\n",
      "250/250 [==============================] - 19s 78ms/step - loss: 0.1298 - accuracy: 0.9495 - val_loss: 0.6800 - val_accuracy: 0.8130\n",
      "Epoch 20/25\n",
      "250/250 [==============================] - 20s 79ms/step - loss: 0.1114 - accuracy: 0.9555 - val_loss: 0.7197 - val_accuracy: 0.8135\n",
      "Epoch 21/25\n",
      "250/250 [==============================] - 20s 79ms/step - loss: 0.1183 - accuracy: 0.9542 - val_loss: 0.6791 - val_accuracy: 0.8075\n",
      "Epoch 22/25\n",
      "250/250 [==============================] - 19s 78ms/step - loss: 0.1054 - accuracy: 0.9620 - val_loss: 0.7381 - val_accuracy: 0.8040\n",
      "Epoch 23/25\n",
      "250/250 [==============================] - 19s 77ms/step - loss: 0.1086 - accuracy: 0.9560 - val_loss: 0.7546 - val_accuracy: 0.8130\n",
      "Epoch 24/25\n",
      "250/250 [==============================] - 19s 77ms/step - loss: 0.1056 - accuracy: 0.9576 - val_loss: 0.7494 - val_accuracy: 0.8135\n",
      "Epoch 25/25\n",
      "250/250 [==============================] - 19s 78ms/step - loss: 0.0977 - accuracy: 0.9638 - val_loss: 0.6936 - val_accuracy: 0.8165\n"
     ]
    },
    {
     "data": {
      "text/plain": [
       "<tensorflow.python.keras.callbacks.History at 0x2db19aa65e0>"
      ]
     },
     "execution_count": 77,
     "metadata": {},
     "output_type": "execute_result"
    }
   ],
   "source": [
    "model.fit(x = training_set, validation_data = test_set, epochs = 25)"
   ]
  },
  {
   "cell_type": "code",
   "execution_count": 84,
   "metadata": {},
   "outputs": [
    {
     "name": "stdout",
     "output_type": "stream",
     "text": [
      "0.13575004\n",
      "Dis a cat\n"
     ]
    },
    {
     "data": {
      "image/png": "[encoded data removed]",
      "text/plain": [
       "<Figure size 432x288 with 1 Axes>"
      ]
     },
     "metadata": {
      "needs_background": "light"
     },
     "output_type": "display_data"
    }
   ],
   "source": [
    "# Making a signle prediction\n",
    "import numpy as np\n",
    "from tensorflow.keras.preprocessing import image\n",
    "import matplotlib.pyplot as plt\n",
    "\n",
    "test_image = image.load_img('data//single_prediction//nevilles-nabi-hard.jpg', target_size=(64,64)) ##PIL fortmat\n",
    "\n",
    "## Covert PIL format to Array\n",
    "test_image = image.img_to_array(test_image)\n",
    "\n",
    "plt.imshow(test_image/255.)\n",
    "## still need to put into batch\n",
    "## Expand dimentions\n",
    "test_image = np.expand_dims(test_image, axis = 0)\n",
    "\n",
    "result = model.predict(test_image/255.0)\n",
    "## what encoding?\n",
    "\n",
    "print(result[0][0]) \n",
    "\n",
    "if result[0][0] <= 0.5:\n",
    "  print(\"Dis a cat\")\n",
    "else:\n",
    "  print(\"Dis a dog\")\n",
    "\n"
   ]
  },
  {
   "cell_type": "code",
   "execution_count": 51,
   "metadata": {},
   "outputs": [
    {
     "data": {
      "text/plain": [
       "{'cats': 0, 'dogs': 1}"
      ]
     },
     "execution_count": 51,
     "metadata": {},
     "output_type": "execute_result"
    }
   ],
   "source": [
    "training_set.class_indices"
   ]
  },
  {
   "cell_type": "code",
   "execution_count": 52,
   "metadata": {},
   "outputs": [
    {
     "name": "stdout",
     "output_type": "stream",
     "text": [
      "[[1.]]\n"
     ]
    }
   ],
   "source": [
    "print(result)"
   ]
  },
  {
   "cell_type": "code",
   "execution_count": 82,
   "metadata": {},
   "outputs": [],
   "source": [
    "## Saving\n",
    "\n",
    "model.save('isCat.h5')"
   ]
  }
 ],
 "metadata": {
  "colab": {
   "authorship_tag": "ABX9TyP7tUD770I0PktzsV4iKm8m",
   "name": "cnn-demo.ipynb",
   "provenance": []
  },
  "kernelspec": {
   "display_name": "demoTF2.4",
   "language": "python",
   "name": "demotf2.4"
  },
  "language_info": {
   "codemirror_mode": {
    "name": "ipython",
    "version": 3
   },
   "file_extension": ".py",
   "mimetype": "text/x-python",
   "name": "python",
   "nbconvert_exporter": "python",
   "pygments_lexer": "ipython3",
   "version": "3.8.0"
  }
 },
 "nbformat": 4,
 "nbformat_minor": 1
}
